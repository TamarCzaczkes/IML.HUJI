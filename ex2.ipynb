{
 "cells": [
  {
   "cell_type": "code",
   "execution_count": 2,
   "id": "e9b7a8b2",
   "metadata": {},
   "outputs": [],
   "source": [
    "import numpy as np\n",
    "import pandas as pd\n",
    "import plotly.io as pio\n",
    "import plotly.express as px"
   ]
  },
  {
   "cell_type": "code",
   "execution_count": 8,
   "id": "9c291f95",
   "metadata": {},
   "outputs": [
    {
     "data": {
      "text/html": [
       "<div>\n",
       "<style scoped>\n",
       "    .dataframe tbody tr th:only-of-type {\n",
       "        vertical-align: middle;\n",
       "    }\n",
       "\n",
       "    .dataframe tbody tr th {\n",
       "        vertical-align: top;\n",
       "    }\n",
       "\n",
       "    .dataframe thead th {\n",
       "        text-align: right;\n",
       "    }\n",
       "</style>\n",
       "<table border=\"1\" class=\"dataframe\">\n",
       "  <thead>\n",
       "    <tr style=\"text-align: right;\">\n",
       "      <th></th>\n",
       "      <th>Country</th>\n",
       "      <th>City</th>\n",
       "      <th>Date</th>\n",
       "      <th>Year</th>\n",
       "      <th>Month</th>\n",
       "      <th>Day</th>\n",
       "      <th>Temp</th>\n",
       "    </tr>\n",
       "  </thead>\n",
       "  <tbody>\n",
       "    <tr>\n",
       "      <th>0</th>\n",
       "      <td>South Africa</td>\n",
       "      <td>Capetown</td>\n",
       "      <td>1995-01-01</td>\n",
       "      <td>1995</td>\n",
       "      <td>1</td>\n",
       "      <td>1</td>\n",
       "      <td>19.333333</td>\n",
       "    </tr>\n",
       "    <tr>\n",
       "      <th>1</th>\n",
       "      <td>South Africa</td>\n",
       "      <td>Capetown</td>\n",
       "      <td>1995-01-02</td>\n",
       "      <td>1995</td>\n",
       "      <td>1</td>\n",
       "      <td>2</td>\n",
       "      <td>19.888889</td>\n",
       "    </tr>\n",
       "    <tr>\n",
       "      <th>2</th>\n",
       "      <td>South Africa</td>\n",
       "      <td>Capetown</td>\n",
       "      <td>1995-01-03</td>\n",
       "      <td>1995</td>\n",
       "      <td>1</td>\n",
       "      <td>3</td>\n",
       "      <td>19.388889</td>\n",
       "    </tr>\n",
       "    <tr>\n",
       "      <th>3</th>\n",
       "      <td>South Africa</td>\n",
       "      <td>Capetown</td>\n",
       "      <td>1995-01-04</td>\n",
       "      <td>1995</td>\n",
       "      <td>1</td>\n",
       "      <td>4</td>\n",
       "      <td>20.833333</td>\n",
       "    </tr>\n",
       "    <tr>\n",
       "      <th>4</th>\n",
       "      <td>South Africa</td>\n",
       "      <td>Capetown</td>\n",
       "      <td>1995-01-05</td>\n",
       "      <td>1995</td>\n",
       "      <td>1</td>\n",
       "      <td>5</td>\n",
       "      <td>21.444444</td>\n",
       "    </tr>\n",
       "    <tr>\n",
       "      <th>...</th>\n",
       "      <td>...</td>\n",
       "      <td>...</td>\n",
       "      <td>...</td>\n",
       "      <td>...</td>\n",
       "      <td>...</td>\n",
       "      <td>...</td>\n",
       "      <td>...</td>\n",
       "    </tr>\n",
       "    <tr>\n",
       "      <th>32434</th>\n",
       "      <td>Jordan</td>\n",
       "      <td>Amman</td>\n",
       "      <td>2020-05-09</td>\n",
       "      <td>2020</td>\n",
       "      <td>5</td>\n",
       "      <td>9</td>\n",
       "      <td>17.555556</td>\n",
       "    </tr>\n",
       "    <tr>\n",
       "      <th>32435</th>\n",
       "      <td>Jordan</td>\n",
       "      <td>Amman</td>\n",
       "      <td>2020-05-10</td>\n",
       "      <td>2020</td>\n",
       "      <td>5</td>\n",
       "      <td>10</td>\n",
       "      <td>17.055556</td>\n",
       "    </tr>\n",
       "    <tr>\n",
       "      <th>32436</th>\n",
       "      <td>Jordan</td>\n",
       "      <td>Amman</td>\n",
       "      <td>2020-05-11</td>\n",
       "      <td>2020</td>\n",
       "      <td>5</td>\n",
       "      <td>11</td>\n",
       "      <td>20.666667</td>\n",
       "    </tr>\n",
       "    <tr>\n",
       "      <th>32437</th>\n",
       "      <td>Jordan</td>\n",
       "      <td>Amman</td>\n",
       "      <td>2020-05-12</td>\n",
       "      <td>2020</td>\n",
       "      <td>5</td>\n",
       "      <td>12</td>\n",
       "      <td>24.444444</td>\n",
       "    </tr>\n",
       "    <tr>\n",
       "      <th>32438</th>\n",
       "      <td>Jordan</td>\n",
       "      <td>Amman</td>\n",
       "      <td>2020-05-13</td>\n",
       "      <td>2020</td>\n",
       "      <td>5</td>\n",
       "      <td>13</td>\n",
       "      <td>18.500000</td>\n",
       "    </tr>\n",
       "  </tbody>\n",
       "</table>\n",
       "<p>32439 rows × 7 columns</p>\n",
       "</div>"
      ],
      "text/plain": [
       "            Country      City       Date  Year  Month  Day       Temp\n",
       "0      South Africa  Capetown 1995-01-01  1995      1    1  19.333333\n",
       "1      South Africa  Capetown 1995-01-02  1995      1    2  19.888889\n",
       "2      South Africa  Capetown 1995-01-03  1995      1    3  19.388889\n",
       "3      South Africa  Capetown 1995-01-04  1995      1    4  20.833333\n",
       "4      South Africa  Capetown 1995-01-05  1995      1    5  21.444444\n",
       "...             ...       ...        ...   ...    ...  ...        ...\n",
       "32434        Jordan     Amman 2020-05-09  2020      5    9  17.555556\n",
       "32435        Jordan     Amman 2020-05-10  2020      5   10  17.055556\n",
       "32436        Jordan     Amman 2020-05-11  2020      5   11  20.666667\n",
       "32437        Jordan     Amman 2020-05-12  2020      5   12  24.444444\n",
       "32438        Jordan     Amman 2020-05-13  2020      5   13  18.500000\n",
       "\n",
       "[32439 rows x 7 columns]"
      ]
     },
     "execution_count": 8,
     "metadata": {},
     "output_type": "execute_result"
    }
   ],
   "source": [
    "data = pd.read_csv(\"datasets/City_Temperature.csv\", parse_dates=[\"Date\"])\n",
    "data"
   ]
  },
  {
   "cell_type": "code",
   "execution_count": 21,
   "id": "98281453",
   "metadata": {
    "scrolled": true
   },
   "outputs": [
    {
     "data": {
      "text/html": [
       "<div>\n",
       "<style scoped>\n",
       "    .dataframe tbody tr th:only-of-type {\n",
       "        vertical-align: middle;\n",
       "    }\n",
       "\n",
       "    .dataframe tbody tr th {\n",
       "        vertical-align: top;\n",
       "    }\n",
       "\n",
       "    .dataframe thead th {\n",
       "        text-align: right;\n",
       "    }\n",
       "</style>\n",
       "<table border=\"1\" class=\"dataframe\">\n",
       "  <thead>\n",
       "    <tr style=\"text-align: right;\">\n",
       "      <th></th>\n",
       "      <th>Country</th>\n",
       "      <th>Month</th>\n",
       "      <th>mean</th>\n",
       "      <th>std</th>\n",
       "    </tr>\n",
       "  </thead>\n",
       "  <tbody>\n",
       "    <tr>\n",
       "      <th>0</th>\n",
       "      <td>Israel</td>\n",
       "      <td>1</td>\n",
       "      <td>2.967191</td>\n",
       "      <td>29.241900</td>\n",
       "    </tr>\n",
       "    <tr>\n",
       "      <th>1</th>\n",
       "      <td>Israel</td>\n",
       "      <td>2</td>\n",
       "      <td>1.974720</td>\n",
       "      <td>30.811749</td>\n",
       "    </tr>\n",
       "    <tr>\n",
       "      <th>2</th>\n",
       "      <td>Israel</td>\n",
       "      <td>3</td>\n",
       "      <td>8.252275</td>\n",
       "      <td>25.911742</td>\n",
       "    </tr>\n",
       "    <tr>\n",
       "      <th>3</th>\n",
       "      <td>Israel</td>\n",
       "      <td>4</td>\n",
       "      <td>14.932479</td>\n",
       "      <td>18.919605</td>\n",
       "    </tr>\n",
       "    <tr>\n",
       "      <th>4</th>\n",
       "      <td>Israel</td>\n",
       "      <td>5</td>\n",
       "      <td>20.695616</td>\n",
       "      <td>10.639414</td>\n",
       "    </tr>\n",
       "    <tr>\n",
       "      <th>5</th>\n",
       "      <td>Israel</td>\n",
       "      <td>6</td>\n",
       "      <td>21.702564</td>\n",
       "      <td>17.610951</td>\n",
       "    </tr>\n",
       "    <tr>\n",
       "      <th>6</th>\n",
       "      <td>Israel</td>\n",
       "      <td>7</td>\n",
       "      <td>23.216019</td>\n",
       "      <td>19.560771</td>\n",
       "    </tr>\n",
       "    <tr>\n",
       "      <th>7</th>\n",
       "      <td>Israel</td>\n",
       "      <td>8</td>\n",
       "      <td>20.487455</td>\n",
       "      <td>26.494203</td>\n",
       "    </tr>\n",
       "    <tr>\n",
       "      <th>8</th>\n",
       "      <td>Israel</td>\n",
       "      <td>9</td>\n",
       "      <td>13.042815</td>\n",
       "      <td>34.496158</td>\n",
       "    </tr>\n",
       "    <tr>\n",
       "      <th>9</th>\n",
       "      <td>Israel</td>\n",
       "      <td>10</td>\n",
       "      <td>7.374403</td>\n",
       "      <td>36.631386</td>\n",
       "    </tr>\n",
       "    <tr>\n",
       "      <th>10</th>\n",
       "      <td>Israel</td>\n",
       "      <td>11</td>\n",
       "      <td>8.341975</td>\n",
       "      <td>31.154089</td>\n",
       "    </tr>\n",
       "    <tr>\n",
       "      <th>11</th>\n",
       "      <td>Israel</td>\n",
       "      <td>12</td>\n",
       "      <td>1.752539</td>\n",
       "      <td>32.780749</td>\n",
       "    </tr>\n",
       "    <tr>\n",
       "      <th>12</th>\n",
       "      <td>Jordan</td>\n",
       "      <td>1</td>\n",
       "      <td>7.971878</td>\n",
       "      <td>6.215573</td>\n",
       "    </tr>\n",
       "    <tr>\n",
       "      <th>13</th>\n",
       "      <td>Jordan</td>\n",
       "      <td>2</td>\n",
       "      <td>9.571126</td>\n",
       "      <td>4.338738</td>\n",
       "    </tr>\n",
       "    <tr>\n",
       "      <th>14</th>\n",
       "      <td>Jordan</td>\n",
       "      <td>3</td>\n",
       "      <td>12.733664</td>\n",
       "      <td>4.972735</td>\n",
       "    </tr>\n",
       "    <tr>\n",
       "      <th>15</th>\n",
       "      <td>Jordan</td>\n",
       "      <td>4</td>\n",
       "      <td>16.831197</td>\n",
       "      <td>6.284146</td>\n",
       "    </tr>\n",
       "    <tr>\n",
       "      <th>16</th>\n",
       "      <td>Jordan</td>\n",
       "      <td>5</td>\n",
       "      <td>21.098068</td>\n",
       "      <td>9.692329</td>\n",
       "    </tr>\n",
       "    <tr>\n",
       "      <th>17</th>\n",
       "      <td>Jordan</td>\n",
       "      <td>6</td>\n",
       "      <td>24.455333</td>\n",
       "      <td>7.695256</td>\n",
       "    </tr>\n",
       "    <tr>\n",
       "      <th>18</th>\n",
       "      <td>Jordan</td>\n",
       "      <td>7</td>\n",
       "      <td>26.843369</td>\n",
       "      <td>2.335903</td>\n",
       "    </tr>\n",
       "    <tr>\n",
       "      <th>19</th>\n",
       "      <td>Jordan</td>\n",
       "      <td>8</td>\n",
       "      <td>26.444803</td>\n",
       "      <td>4.207639</td>\n",
       "    </tr>\n",
       "    <tr>\n",
       "      <th>20</th>\n",
       "      <td>Jordan</td>\n",
       "      <td>9</td>\n",
       "      <td>24.104667</td>\n",
       "      <td>5.589080</td>\n",
       "    </tr>\n",
       "    <tr>\n",
       "      <th>21</th>\n",
       "      <td>Jordan</td>\n",
       "      <td>10</td>\n",
       "      <td>20.745305</td>\n",
       "      <td>3.125580</td>\n",
       "    </tr>\n",
       "    <tr>\n",
       "      <th>22</th>\n",
       "      <td>Jordan</td>\n",
       "      <td>11</td>\n",
       "      <td>14.417852</td>\n",
       "      <td>7.104251</td>\n",
       "    </tr>\n",
       "    <tr>\n",
       "      <th>23</th>\n",
       "      <td>Jordan</td>\n",
       "      <td>12</td>\n",
       "      <td>9.621993</td>\n",
       "      <td>7.713508</td>\n",
       "    </tr>\n",
       "    <tr>\n",
       "      <th>24</th>\n",
       "      <td>South Africa</td>\n",
       "      <td>1</td>\n",
       "      <td>21.021161</td>\n",
       "      <td>6.053606</td>\n",
       "    </tr>\n",
       "    <tr>\n",
       "      <th>25</th>\n",
       "      <td>South Africa</td>\n",
       "      <td>2</td>\n",
       "      <td>21.259259</td>\n",
       "      <td>3.938244</td>\n",
       "    </tr>\n",
       "    <tr>\n",
       "      <th>26</th>\n",
       "      <td>South Africa</td>\n",
       "      <td>3</td>\n",
       "      <td>19.698649</td>\n",
       "      <td>3.862207</td>\n",
       "    </tr>\n",
       "    <tr>\n",
       "      <th>27</th>\n",
       "      <td>South Africa</td>\n",
       "      <td>4</td>\n",
       "      <td>17.016595</td>\n",
       "      <td>6.023682</td>\n",
       "    </tr>\n",
       "    <tr>\n",
       "      <th>28</th>\n",
       "      <td>South Africa</td>\n",
       "      <td>5</td>\n",
       "      <td>14.462916</td>\n",
       "      <td>7.899738</td>\n",
       "    </tr>\n",
       "    <tr>\n",
       "      <th>29</th>\n",
       "      <td>South Africa</td>\n",
       "      <td>6</td>\n",
       "      <td>12.546815</td>\n",
       "      <td>6.542079</td>\n",
       "    </tr>\n",
       "    <tr>\n",
       "      <th>30</th>\n",
       "      <td>South Africa</td>\n",
       "      <td>7</td>\n",
       "      <td>12.475054</td>\n",
       "      <td>2.025244</td>\n",
       "    </tr>\n",
       "    <tr>\n",
       "      <th>31</th>\n",
       "      <td>South Africa</td>\n",
       "      <td>8</td>\n",
       "      <td>12.705090</td>\n",
       "      <td>4.727256</td>\n",
       "    </tr>\n",
       "    <tr>\n",
       "      <th>32</th>\n",
       "      <td>South Africa</td>\n",
       "      <td>9</td>\n",
       "      <td>14.050963</td>\n",
       "      <td>5.867500</td>\n",
       "    </tr>\n",
       "    <tr>\n",
       "      <th>33</th>\n",
       "      <td>South Africa</td>\n",
       "      <td>10</td>\n",
       "      <td>16.686595</td>\n",
       "      <td>2.393377</td>\n",
       "    </tr>\n",
       "    <tr>\n",
       "      <th>34</th>\n",
       "      <td>South Africa</td>\n",
       "      <td>11</td>\n",
       "      <td>17.855185</td>\n",
       "      <td>6.979232</td>\n",
       "    </tr>\n",
       "    <tr>\n",
       "      <th>35</th>\n",
       "      <td>South Africa</td>\n",
       "      <td>12</td>\n",
       "      <td>19.619487</td>\n",
       "      <td>9.049181</td>\n",
       "    </tr>\n",
       "    <tr>\n",
       "      <th>36</th>\n",
       "      <td>The Netherlands</td>\n",
       "      <td>1</td>\n",
       "      <td>3.534877</td>\n",
       "      <td>6.134681</td>\n",
       "    </tr>\n",
       "    <tr>\n",
       "      <th>37</th>\n",
       "      <td>The Netherlands</td>\n",
       "      <td>2</td>\n",
       "      <td>4.272714</td>\n",
       "      <td>4.617757</td>\n",
       "    </tr>\n",
       "    <tr>\n",
       "      <th>38</th>\n",
       "      <td>The Netherlands</td>\n",
       "      <td>3</td>\n",
       "      <td>6.317135</td>\n",
       "      <td>4.189927</td>\n",
       "    </tr>\n",
       "    <tr>\n",
       "      <th>39</th>\n",
       "      <td>The Netherlands</td>\n",
       "      <td>4</td>\n",
       "      <td>9.686538</td>\n",
       "      <td>5.330963</td>\n",
       "    </tr>\n",
       "    <tr>\n",
       "      <th>40</th>\n",
       "      <td>The Netherlands</td>\n",
       "      <td>5</td>\n",
       "      <td>12.832064</td>\n",
       "      <td>7.656681</td>\n",
       "    </tr>\n",
       "    <tr>\n",
       "      <th>41</th>\n",
       "      <td>The Netherlands</td>\n",
       "      <td>6</td>\n",
       "      <td>15.598074</td>\n",
       "      <td>7.068153</td>\n",
       "    </tr>\n",
       "    <tr>\n",
       "      <th>42</th>\n",
       "      <td>The Netherlands</td>\n",
       "      <td>7</td>\n",
       "      <td>18.117921</td>\n",
       "      <td>2.816160</td>\n",
       "    </tr>\n",
       "    <tr>\n",
       "      <th>43</th>\n",
       "      <td>The Netherlands</td>\n",
       "      <td>8</td>\n",
       "      <td>17.816416</td>\n",
       "      <td>5.238670</td>\n",
       "    </tr>\n",
       "    <tr>\n",
       "      <th>44</th>\n",
       "      <td>The Netherlands</td>\n",
       "      <td>9</td>\n",
       "      <td>15.019111</td>\n",
       "      <td>5.147811</td>\n",
       "    </tr>\n",
       "    <tr>\n",
       "      <th>45</th>\n",
       "      <td>The Netherlands</td>\n",
       "      <td>10</td>\n",
       "      <td>11.614480</td>\n",
       "      <td>2.969981</td>\n",
       "    </tr>\n",
       "    <tr>\n",
       "      <th>46</th>\n",
       "      <td>The Netherlands</td>\n",
       "      <td>11</td>\n",
       "      <td>7.026296</td>\n",
       "      <td>6.654796</td>\n",
       "    </tr>\n",
       "    <tr>\n",
       "      <th>47</th>\n",
       "      <td>The Netherlands</td>\n",
       "      <td>12</td>\n",
       "      <td>3.917526</td>\n",
       "      <td>7.857832</td>\n",
       "    </tr>\n",
       "  </tbody>\n",
       "</table>\n",
       "</div>"
      ],
      "text/plain": [
       "            Country  Month       mean        std\n",
       "0            Israel      1   2.967191  29.241900\n",
       "1            Israel      2   1.974720  30.811749\n",
       "2            Israel      3   8.252275  25.911742\n",
       "3            Israel      4  14.932479  18.919605\n",
       "4            Israel      5  20.695616  10.639414\n",
       "5            Israel      6  21.702564  17.610951\n",
       "6            Israel      7  23.216019  19.560771\n",
       "7            Israel      8  20.487455  26.494203\n",
       "8            Israel      9  13.042815  34.496158\n",
       "9            Israel     10   7.374403  36.631386\n",
       "10           Israel     11   8.341975  31.154089\n",
       "11           Israel     12   1.752539  32.780749\n",
       "12           Jordan      1   7.971878   6.215573\n",
       "13           Jordan      2   9.571126   4.338738\n",
       "14           Jordan      3  12.733664   4.972735\n",
       "15           Jordan      4  16.831197   6.284146\n",
       "16           Jordan      5  21.098068   9.692329\n",
       "17           Jordan      6  24.455333   7.695256\n",
       "18           Jordan      7  26.843369   2.335903\n",
       "19           Jordan      8  26.444803   4.207639\n",
       "20           Jordan      9  24.104667   5.589080\n",
       "21           Jordan     10  20.745305   3.125580\n",
       "22           Jordan     11  14.417852   7.104251\n",
       "23           Jordan     12   9.621993   7.713508\n",
       "24     South Africa      1  21.021161   6.053606\n",
       "25     South Africa      2  21.259259   3.938244\n",
       "26     South Africa      3  19.698649   3.862207\n",
       "27     South Africa      4  17.016595   6.023682\n",
       "28     South Africa      5  14.462916   7.899738\n",
       "29     South Africa      6  12.546815   6.542079\n",
       "30     South Africa      7  12.475054   2.025244\n",
       "31     South Africa      8  12.705090   4.727256\n",
       "32     South Africa      9  14.050963   5.867500\n",
       "33     South Africa     10  16.686595   2.393377\n",
       "34     South Africa     11  17.855185   6.979232\n",
       "35     South Africa     12  19.619487   9.049181\n",
       "36  The Netherlands      1   3.534877   6.134681\n",
       "37  The Netherlands      2   4.272714   4.617757\n",
       "38  The Netherlands      3   6.317135   4.189927\n",
       "39  The Netherlands      4   9.686538   5.330963\n",
       "40  The Netherlands      5  12.832064   7.656681\n",
       "41  The Netherlands      6  15.598074   7.068153\n",
       "42  The Netherlands      7  18.117921   2.816160\n",
       "43  The Netherlands      8  17.816416   5.238670\n",
       "44  The Netherlands      9  15.019111   5.147811\n",
       "45  The Netherlands     10  11.614480   2.969981\n",
       "46  The Netherlands     11   7.026296   6.654796\n",
       "47  The Netherlands     12   3.917526   7.857832"
      ]
     },
     "execution_count": 21,
     "metadata": {},
     "output_type": "execute_result"
    }
   ],
   "source": [
    "# country_month_data = data.groupby([\"Country\", \"Month\"])\n",
    "country_month_data = data.groupby([\"Country\", \"Month\"]).agg([np.mean, np.std]).Temp.reset_index()\n",
    "country_month_data\n"
   ]
  },
  {
   "cell_type": "code",
   "execution_count": 29,
   "id": "1db03920",
   "metadata": {},
   "outputs": [
    {
     "data": {
      "application/vnd.plotly.v1+json": {
       "config": {
        "plotlyServerURL": "https://plot.ly"
       },
       "data": [
        {
         "error_y": {
          "array": [
           29.241900054270165,
           30.81174887472316,
           25.911741669051164,
           18.91960511165881,
           10.639414269949885,
           17.610951212228755,
           19.560771433186773,
           26.494202652309824,
           34.496157761238926,
           36.63138574467119,
           31.154089075829468,
           32.78074922992444
          ]
         },
         "hovertemplate": "Country=Israel<br>Month=%{x}<br>mean=%{y}<extra></extra>",
         "legendgroup": "Israel",
         "line": {
          "color": "#636efa",
          "dash": "solid"
         },
         "marker": {
          "symbol": "circle"
         },
         "mode": "lines",
         "name": "Israel",
         "orientation": "v",
         "showlegend": true,
         "type": "scatter",
         "x": [
          1,
          2,
          3,
          4,
          5,
          6,
          7,
          8,
          9,
          10,
          11,
          12
         ],
         "xaxis": "x",
         "y": [
          2.967190515577613,
          1.9747199515591898,
          8.252274607113318,
          14.932478632478633,
          20.695616211745246,
          21.702564102564104,
          23.216018748276817,
          20.48745519713262,
          13.042814814814815,
          7.374402628434888,
          8.341975308641976,
          1.7525388291517336
         ],
         "yaxis": "y"
        },
        {
         "error_y": {
          "array": [
           6.215572912743209,
           4.338737956438153,
           4.972735191206012,
           6.284146281354905,
           9.692329464078883,
           7.695256003369333,
           2.3359028324417572,
           4.207638999915242,
           5.589080315285033,
           3.125580441320746,
           7.104250614470203,
           7.713507686104462
          ]
         },
         "hovertemplate": "Country=Jordan<br>Month=%{x}<br>mean=%{y}<extra></extra>",
         "legendgroup": "Jordan",
         "line": {
          "color": "#EF553B",
          "dash": "solid"
         },
         "marker": {
          "symbol": "circle"
         },
         "mode": "lines",
         "name": "Jordan",
         "orientation": "v",
         "showlegend": true,
         "type": "scatter",
         "x": [
          1,
          2,
          3,
          4,
          5,
          6,
          7,
          8,
          9,
          10,
          11,
          12
         ],
         "xaxis": "x",
         "y": [
          7.9718775847808105,
          9.571126228269085,
          12.733664185277089,
          16.831196581196583,
          21.098068245910884,
          24.455333333333332,
          26.843369175627238,
          26.444802867383512,
          24.104666666666667,
          20.74530465949821,
          14.417851851851852,
          9.621993127147766
         ],
         "yaxis": "y"
        },
        {
         "error_y": {
          "array": [
           6.0536061170183215,
           3.938244463922965,
           3.862207039394339,
           6.023681651662258,
           7.899737835962586,
           6.542078501777425,
           2.02524357667455,
           4.727256312299529,
           5.86750043336624,
           2.3933768233836976,
           6.9792316547411986,
           9.04918093891471
          ]
         },
         "hovertemplate": "Country=South Africa<br>Month=%{x}<br>mean=%{y}<extra></extra>",
         "legendgroup": "South Africa",
         "line": {
          "color": "#00cc96",
          "dash": "solid"
         },
         "marker": {
          "symbol": "circle"
         },
         "mode": "lines",
         "name": "South Africa",
         "orientation": "v",
         "showlegend": true,
         "type": "scatter",
         "x": [
          1,
          2,
          3,
          4,
          5,
          6,
          7,
          8,
          9,
          10,
          11,
          12
         ],
         "xaxis": "x",
         "y": [
          21.021160738902672,
          21.25925925925926,
          19.698649021229667,
          17.01659544159544,
          14.462915961646926,
          12.546814814814814,
          12.47505376344086,
          12.705089605734768,
          14.050962962962963,
          16.686594982078855,
          17.855185185185185,
          19.619487399770904
         ],
         "yaxis": "y"
        },
        {
         "error_y": {
          "array": [
           6.134681421804427,
           4.617757308854795,
           4.189927015220832,
           5.330962722801875,
           7.656680560117544,
           7.068153042432849,
           2.816159859034877,
           5.238670003499299,
           5.147810767113701,
           2.969981291196463,
           6.654796139090102,
           7.8578322035533095
          ]
         },
         "hovertemplate": "Country=The Netherlands<br>Month=%{x}<br>mean=%{y}<extra></extra>",
         "legendgroup": "The Netherlands",
         "line": {
          "color": "#ab63fa",
          "dash": "solid"
         },
         "marker": {
          "symbol": "circle"
         },
         "mode": "lines",
         "name": "The Netherlands",
         "orientation": "v",
         "showlegend": true,
         "type": "scatter",
         "x": [
          1,
          2,
          3,
          4,
          5,
          6,
          7,
          8,
          9,
          10,
          11,
          12
         ],
         "xaxis": "x",
         "y": [
          3.5348773090708576,
          4.272713529856387,
          6.317135373586987,
          9.686538461538461,
          12.832064297800338,
          15.598074074074074,
          18.117921146953403,
          17.816415770609318,
          15.019111111111112,
          11.614480286738353,
          7.026296296296297,
          3.917525773195876
         ],
         "yaxis": "y"
        }
       ],
       "layout": {
        "legend": {
         "title": {
          "text": "Country"
         },
         "tracegroupgap": 0
        },
        "template": {
         "data": {
          "bar": [
           {
            "error_x": {
             "color": "#2a3f5f"
            },
            "error_y": {
             "color": "#2a3f5f"
            },
            "marker": {
             "line": {
              "color": "#E5ECF6",
              "width": 0.5
             },
             "pattern": {
              "fillmode": "overlay",
              "size": 10,
              "solidity": 0.2
             }
            },
            "type": "bar"
           }
          ],
          "barpolar": [
           {
            "marker": {
             "line": {
              "color": "#E5ECF6",
              "width": 0.5
             },
             "pattern": {
              "fillmode": "overlay",
              "size": 10,
              "solidity": 0.2
             }
            },
            "type": "barpolar"
           }
          ],
          "carpet": [
           {
            "aaxis": {
             "endlinecolor": "#2a3f5f",
             "gridcolor": "white",
             "linecolor": "white",
             "minorgridcolor": "white",
             "startlinecolor": "#2a3f5f"
            },
            "baxis": {
             "endlinecolor": "#2a3f5f",
             "gridcolor": "white",
             "linecolor": "white",
             "minorgridcolor": "white",
             "startlinecolor": "#2a3f5f"
            },
            "type": "carpet"
           }
          ],
          "choropleth": [
           {
            "colorbar": {
             "outlinewidth": 0,
             "ticks": ""
            },
            "type": "choropleth"
           }
          ],
          "contour": [
           {
            "colorbar": {
             "outlinewidth": 0,
             "ticks": ""
            },
            "colorscale": [
             [
              0,
              "#0d0887"
             ],
             [
              0.1111111111111111,
              "#46039f"
             ],
             [
              0.2222222222222222,
              "#7201a8"
             ],
             [
              0.3333333333333333,
              "#9c179e"
             ],
             [
              0.4444444444444444,
              "#bd3786"
             ],
             [
              0.5555555555555556,
              "#d8576b"
             ],
             [
              0.6666666666666666,
              "#ed7953"
             ],
             [
              0.7777777777777778,
              "#fb9f3a"
             ],
             [
              0.8888888888888888,
              "#fdca26"
             ],
             [
              1,
              "#f0f921"
             ]
            ],
            "type": "contour"
           }
          ],
          "contourcarpet": [
           {
            "colorbar": {
             "outlinewidth": 0,
             "ticks": ""
            },
            "type": "contourcarpet"
           }
          ],
          "heatmap": [
           {
            "colorbar": {
             "outlinewidth": 0,
             "ticks": ""
            },
            "colorscale": [
             [
              0,
              "#0d0887"
             ],
             [
              0.1111111111111111,
              "#46039f"
             ],
             [
              0.2222222222222222,
              "#7201a8"
             ],
             [
              0.3333333333333333,
              "#9c179e"
             ],
             [
              0.4444444444444444,
              "#bd3786"
             ],
             [
              0.5555555555555556,
              "#d8576b"
             ],
             [
              0.6666666666666666,
              "#ed7953"
             ],
             [
              0.7777777777777778,
              "#fb9f3a"
             ],
             [
              0.8888888888888888,
              "#fdca26"
             ],
             [
              1,
              "#f0f921"
             ]
            ],
            "type": "heatmap"
           }
          ],
          "heatmapgl": [
           {
            "colorbar": {
             "outlinewidth": 0,
             "ticks": ""
            },
            "colorscale": [
             [
              0,
              "#0d0887"
             ],
             [
              0.1111111111111111,
              "#46039f"
             ],
             [
              0.2222222222222222,
              "#7201a8"
             ],
             [
              0.3333333333333333,
              "#9c179e"
             ],
             [
              0.4444444444444444,
              "#bd3786"
             ],
             [
              0.5555555555555556,
              "#d8576b"
             ],
             [
              0.6666666666666666,
              "#ed7953"
             ],
             [
              0.7777777777777778,
              "#fb9f3a"
             ],
             [
              0.8888888888888888,
              "#fdca26"
             ],
             [
              1,
              "#f0f921"
             ]
            ],
            "type": "heatmapgl"
           }
          ],
          "histogram": [
           {
            "marker": {
             "pattern": {
              "fillmode": "overlay",
              "size": 10,
              "solidity": 0.2
             }
            },
            "type": "histogram"
           }
          ],
          "histogram2d": [
           {
            "colorbar": {
             "outlinewidth": 0,
             "ticks": ""
            },
            "colorscale": [
             [
              0,
              "#0d0887"
             ],
             [
              0.1111111111111111,
              "#46039f"
             ],
             [
              0.2222222222222222,
              "#7201a8"
             ],
             [
              0.3333333333333333,
              "#9c179e"
             ],
             [
              0.4444444444444444,
              "#bd3786"
             ],
             [
              0.5555555555555556,
              "#d8576b"
             ],
             [
              0.6666666666666666,
              "#ed7953"
             ],
             [
              0.7777777777777778,
              "#fb9f3a"
             ],
             [
              0.8888888888888888,
              "#fdca26"
             ],
             [
              1,
              "#f0f921"
             ]
            ],
            "type": "histogram2d"
           }
          ],
          "histogram2dcontour": [
           {
            "colorbar": {
             "outlinewidth": 0,
             "ticks": ""
            },
            "colorscale": [
             [
              0,
              "#0d0887"
             ],
             [
              0.1111111111111111,
              "#46039f"
             ],
             [
              0.2222222222222222,
              "#7201a8"
             ],
             [
              0.3333333333333333,
              "#9c179e"
             ],
             [
              0.4444444444444444,
              "#bd3786"
             ],
             [
              0.5555555555555556,
              "#d8576b"
             ],
             [
              0.6666666666666666,
              "#ed7953"
             ],
             [
              0.7777777777777778,
              "#fb9f3a"
             ],
             [
              0.8888888888888888,
              "#fdca26"
             ],
             [
              1,
              "#f0f921"
             ]
            ],
            "type": "histogram2dcontour"
           }
          ],
          "mesh3d": [
           {
            "colorbar": {
             "outlinewidth": 0,
             "ticks": ""
            },
            "type": "mesh3d"
           }
          ],
          "parcoords": [
           {
            "line": {
             "colorbar": {
              "outlinewidth": 0,
              "ticks": ""
             }
            },
            "type": "parcoords"
           }
          ],
          "pie": [
           {
            "automargin": true,
            "type": "pie"
           }
          ],
          "scatter": [
           {
            "marker": {
             "colorbar": {
              "outlinewidth": 0,
              "ticks": ""
             }
            },
            "type": "scatter"
           }
          ],
          "scatter3d": [
           {
            "line": {
             "colorbar": {
              "outlinewidth": 0,
              "ticks": ""
             }
            },
            "marker": {
             "colorbar": {
              "outlinewidth": 0,
              "ticks": ""
             }
            },
            "type": "scatter3d"
           }
          ],
          "scattercarpet": [
           {
            "marker": {
             "colorbar": {
              "outlinewidth": 0,
              "ticks": ""
             }
            },
            "type": "scattercarpet"
           }
          ],
          "scattergeo": [
           {
            "marker": {
             "colorbar": {
              "outlinewidth": 0,
              "ticks": ""
             }
            },
            "type": "scattergeo"
           }
          ],
          "scattergl": [
           {
            "marker": {
             "colorbar": {
              "outlinewidth": 0,
              "ticks": ""
             }
            },
            "type": "scattergl"
           }
          ],
          "scattermapbox": [
           {
            "marker": {
             "colorbar": {
              "outlinewidth": 0,
              "ticks": ""
             }
            },
            "type": "scattermapbox"
           }
          ],
          "scatterpolar": [
           {
            "marker": {
             "colorbar": {
              "outlinewidth": 0,
              "ticks": ""
             }
            },
            "type": "scatterpolar"
           }
          ],
          "scatterpolargl": [
           {
            "marker": {
             "colorbar": {
              "outlinewidth": 0,
              "ticks": ""
             }
            },
            "type": "scatterpolargl"
           }
          ],
          "scatterternary": [
           {
            "marker": {
             "colorbar": {
              "outlinewidth": 0,
              "ticks": ""
             }
            },
            "type": "scatterternary"
           }
          ],
          "surface": [
           {
            "colorbar": {
             "outlinewidth": 0,
             "ticks": ""
            },
            "colorscale": [
             [
              0,
              "#0d0887"
             ],
             [
              0.1111111111111111,
              "#46039f"
             ],
             [
              0.2222222222222222,
              "#7201a8"
             ],
             [
              0.3333333333333333,
              "#9c179e"
             ],
             [
              0.4444444444444444,
              "#bd3786"
             ],
             [
              0.5555555555555556,
              "#d8576b"
             ],
             [
              0.6666666666666666,
              "#ed7953"
             ],
             [
              0.7777777777777778,
              "#fb9f3a"
             ],
             [
              0.8888888888888888,
              "#fdca26"
             ],
             [
              1,
              "#f0f921"
             ]
            ],
            "type": "surface"
           }
          ],
          "table": [
           {
            "cells": {
             "fill": {
              "color": "#EBF0F8"
             },
             "line": {
              "color": "white"
             }
            },
            "header": {
             "fill": {
              "color": "#C8D4E3"
             },
             "line": {
              "color": "white"
             }
            },
            "type": "table"
           }
          ]
         },
         "layout": {
          "annotationdefaults": {
           "arrowcolor": "#2a3f5f",
           "arrowhead": 0,
           "arrowwidth": 1
          },
          "autotypenumbers": "strict",
          "coloraxis": {
           "colorbar": {
            "outlinewidth": 0,
            "ticks": ""
           }
          },
          "colorscale": {
           "diverging": [
            [
             0,
             "#8e0152"
            ],
            [
             0.1,
             "#c51b7d"
            ],
            [
             0.2,
             "#de77ae"
            ],
            [
             0.3,
             "#f1b6da"
            ],
            [
             0.4,
             "#fde0ef"
            ],
            [
             0.5,
             "#f7f7f7"
            ],
            [
             0.6,
             "#e6f5d0"
            ],
            [
             0.7,
             "#b8e186"
            ],
            [
             0.8,
             "#7fbc41"
            ],
            [
             0.9,
             "#4d9221"
            ],
            [
             1,
             "#276419"
            ]
           ],
           "sequential": [
            [
             0,
             "#0d0887"
            ],
            [
             0.1111111111111111,
             "#46039f"
            ],
            [
             0.2222222222222222,
             "#7201a8"
            ],
            [
             0.3333333333333333,
             "#9c179e"
            ],
            [
             0.4444444444444444,
             "#bd3786"
            ],
            [
             0.5555555555555556,
             "#d8576b"
            ],
            [
             0.6666666666666666,
             "#ed7953"
            ],
            [
             0.7777777777777778,
             "#fb9f3a"
            ],
            [
             0.8888888888888888,
             "#fdca26"
            ],
            [
             1,
             "#f0f921"
            ]
           ],
           "sequentialminus": [
            [
             0,
             "#0d0887"
            ],
            [
             0.1111111111111111,
             "#46039f"
            ],
            [
             0.2222222222222222,
             "#7201a8"
            ],
            [
             0.3333333333333333,
             "#9c179e"
            ],
            [
             0.4444444444444444,
             "#bd3786"
            ],
            [
             0.5555555555555556,
             "#d8576b"
            ],
            [
             0.6666666666666666,
             "#ed7953"
            ],
            [
             0.7777777777777778,
             "#fb9f3a"
            ],
            [
             0.8888888888888888,
             "#fdca26"
            ],
            [
             1,
             "#f0f921"
            ]
           ]
          },
          "colorway": [
           "#636efa",
           "#EF553B",
           "#00cc96",
           "#ab63fa",
           "#FFA15A",
           "#19d3f3",
           "#FF6692",
           "#B6E880",
           "#FF97FF",
           "#FECB52"
          ],
          "font": {
           "color": "#2a3f5f"
          },
          "geo": {
           "bgcolor": "white",
           "lakecolor": "white",
           "landcolor": "#E5ECF6",
           "showlakes": true,
           "showland": true,
           "subunitcolor": "white"
          },
          "hoverlabel": {
           "align": "left"
          },
          "hovermode": "closest",
          "mapbox": {
           "style": "light"
          },
          "paper_bgcolor": "white",
          "plot_bgcolor": "#E5ECF6",
          "polar": {
           "angularaxis": {
            "gridcolor": "white",
            "linecolor": "white",
            "ticks": ""
           },
           "bgcolor": "#E5ECF6",
           "radialaxis": {
            "gridcolor": "white",
            "linecolor": "white",
            "ticks": ""
           }
          },
          "scene": {
           "xaxis": {
            "backgroundcolor": "#E5ECF6",
            "gridcolor": "white",
            "gridwidth": 2,
            "linecolor": "white",
            "showbackground": true,
            "ticks": "",
            "zerolinecolor": "white"
           },
           "yaxis": {
            "backgroundcolor": "#E5ECF6",
            "gridcolor": "white",
            "gridwidth": 2,
            "linecolor": "white",
            "showbackground": true,
            "ticks": "",
            "zerolinecolor": "white"
           },
           "zaxis": {
            "backgroundcolor": "#E5ECF6",
            "gridcolor": "white",
            "gridwidth": 2,
            "linecolor": "white",
            "showbackground": true,
            "ticks": "",
            "zerolinecolor": "white"
           }
          },
          "shapedefaults": {
           "line": {
            "color": "#2a3f5f"
           }
          },
          "ternary": {
           "aaxis": {
            "gridcolor": "white",
            "linecolor": "white",
            "ticks": ""
           },
           "baxis": {
            "gridcolor": "white",
            "linecolor": "white",
            "ticks": ""
           },
           "bgcolor": "#E5ECF6",
           "caxis": {
            "gridcolor": "white",
            "linecolor": "white",
            "ticks": ""
           }
          },
          "title": {
           "x": 0.05
          },
          "xaxis": {
           "automargin": true,
           "gridcolor": "white",
           "linecolor": "white",
           "ticks": "",
           "title": {
            "standoff": 15
           },
           "zerolinecolor": "white",
           "zerolinewidth": 2
          },
          "yaxis": {
           "automargin": true,
           "gridcolor": "white",
           "linecolor": "white",
           "ticks": "",
           "title": {
            "standoff": 15
           },
           "zerolinecolor": "white",
           "zerolinewidth": 2
          }
         }
        },
        "title": {
         "text": "Average and Standard Deviation of Temperature by Country"
        },
        "xaxis": {
         "anchor": "y",
         "domain": [
          0,
          1
         ],
         "title": {
          "text": "Month"
         }
        },
        "yaxis": {
         "anchor": "x",
         "domain": [
          0,
          1
         ],
         "title": {
          "text": "mean"
         }
        }
       }
      },
      "text/html": [
       "<div>                            <div id=\"82662a53-c06a-4e05-a6c0-7da2628ce827\" class=\"plotly-graph-div\" style=\"height:525px; width:100%;\"></div>            <script type=\"text/javascript\">                require([\"plotly\"], function(Plotly) {                    window.PLOTLYENV=window.PLOTLYENV || {};                                    if (document.getElementById(\"82662a53-c06a-4e05-a6c0-7da2628ce827\")) {                    Plotly.newPlot(                        \"82662a53-c06a-4e05-a6c0-7da2628ce827\",                        [{\"error_y\":{\"array\":[29.241900054270165,30.81174887472316,25.911741669051164,18.91960511165881,10.639414269949885,17.610951212228755,19.560771433186773,26.494202652309824,34.496157761238926,36.63138574467119,31.154089075829468,32.78074922992444]},\"hovertemplate\":\"Country=Israel<br>Month=%{x}<br>mean=%{y}<extra></extra>\",\"legendgroup\":\"Israel\",\"line\":{\"color\":\"#636efa\",\"dash\":\"solid\"},\"marker\":{\"symbol\":\"circle\"},\"mode\":\"lines\",\"name\":\"Israel\",\"orientation\":\"v\",\"showlegend\":true,\"x\":[1,2,3,4,5,6,7,8,9,10,11,12],\"xaxis\":\"x\",\"y\":[2.967190515577613,1.9747199515591898,8.252274607113318,14.932478632478633,20.695616211745246,21.702564102564104,23.216018748276817,20.48745519713262,13.042814814814815,7.374402628434888,8.341975308641976,1.7525388291517336],\"yaxis\":\"y\",\"type\":\"scatter\"},{\"error_y\":{\"array\":[6.215572912743209,4.338737956438153,4.972735191206012,6.284146281354905,9.692329464078883,7.695256003369333,2.3359028324417572,4.207638999915242,5.589080315285033,3.125580441320746,7.104250614470203,7.713507686104462]},\"hovertemplate\":\"Country=Jordan<br>Month=%{x}<br>mean=%{y}<extra></extra>\",\"legendgroup\":\"Jordan\",\"line\":{\"color\":\"#EF553B\",\"dash\":\"solid\"},\"marker\":{\"symbol\":\"circle\"},\"mode\":\"lines\",\"name\":\"Jordan\",\"orientation\":\"v\",\"showlegend\":true,\"x\":[1,2,3,4,5,6,7,8,9,10,11,12],\"xaxis\":\"x\",\"y\":[7.9718775847808105,9.571126228269085,12.733664185277089,16.831196581196583,21.098068245910884,24.455333333333332,26.843369175627238,26.444802867383512,24.104666666666667,20.74530465949821,14.417851851851852,9.621993127147766],\"yaxis\":\"y\",\"type\":\"scatter\"},{\"error_y\":{\"array\":[6.0536061170183215,3.938244463922965,3.862207039394339,6.023681651662258,7.899737835962586,6.542078501777425,2.02524357667455,4.727256312299529,5.86750043336624,2.3933768233836976,6.9792316547411986,9.04918093891471]},\"hovertemplate\":\"Country=South Africa<br>Month=%{x}<br>mean=%{y}<extra></extra>\",\"legendgroup\":\"South Africa\",\"line\":{\"color\":\"#00cc96\",\"dash\":\"solid\"},\"marker\":{\"symbol\":\"circle\"},\"mode\":\"lines\",\"name\":\"South Africa\",\"orientation\":\"v\",\"showlegend\":true,\"x\":[1,2,3,4,5,6,7,8,9,10,11,12],\"xaxis\":\"x\",\"y\":[21.021160738902672,21.25925925925926,19.698649021229667,17.01659544159544,14.462915961646926,12.546814814814814,12.47505376344086,12.705089605734768,14.050962962962963,16.686594982078855,17.855185185185185,19.619487399770904],\"yaxis\":\"y\",\"type\":\"scatter\"},{\"error_y\":{\"array\":[6.134681421804427,4.617757308854795,4.189927015220832,5.330962722801875,7.656680560117544,7.068153042432849,2.816159859034877,5.238670003499299,5.147810767113701,2.969981291196463,6.654796139090102,7.8578322035533095]},\"hovertemplate\":\"Country=The Netherlands<br>Month=%{x}<br>mean=%{y}<extra></extra>\",\"legendgroup\":\"The Netherlands\",\"line\":{\"color\":\"#ab63fa\",\"dash\":\"solid\"},\"marker\":{\"symbol\":\"circle\"},\"mode\":\"lines\",\"name\":\"The Netherlands\",\"orientation\":\"v\",\"showlegend\":true,\"x\":[1,2,3,4,5,6,7,8,9,10,11,12],\"xaxis\":\"x\",\"y\":[3.5348773090708576,4.272713529856387,6.317135373586987,9.686538461538461,12.832064297800338,15.598074074074074,18.117921146953403,17.816415770609318,15.019111111111112,11.614480286738353,7.026296296296297,3.917525773195876],\"yaxis\":\"y\",\"type\":\"scatter\"}],                        {\"template\":{\"data\":{\"bar\":[{\"error_x\":{\"color\":\"#2a3f5f\"},\"error_y\":{\"color\":\"#2a3f5f\"},\"marker\":{\"line\":{\"color\":\"#E5ECF6\",\"width\":0.5},\"pattern\":{\"fillmode\":\"overlay\",\"size\":10,\"solidity\":0.2}},\"type\":\"bar\"}],\"barpolar\":[{\"marker\":{\"line\":{\"color\":\"#E5ECF6\",\"width\":0.5},\"pattern\":{\"fillmode\":\"overlay\",\"size\":10,\"solidity\":0.2}},\"type\":\"barpolar\"}],\"carpet\":[{\"aaxis\":{\"endlinecolor\":\"#2a3f5f\",\"gridcolor\":\"white\",\"linecolor\":\"white\",\"minorgridcolor\":\"white\",\"startlinecolor\":\"#2a3f5f\"},\"baxis\":{\"endlinecolor\":\"#2a3f5f\",\"gridcolor\":\"white\",\"linecolor\":\"white\",\"minorgridcolor\":\"white\",\"startlinecolor\":\"#2a3f5f\"},\"type\":\"carpet\"}],\"choropleth\":[{\"colorbar\":{\"outlinewidth\":0,\"ticks\":\"\"},\"type\":\"choropleth\"}],\"contour\":[{\"colorbar\":{\"outlinewidth\":0,\"ticks\":\"\"},\"colorscale\":[[0.0,\"#0d0887\"],[0.1111111111111111,\"#46039f\"],[0.2222222222222222,\"#7201a8\"],[0.3333333333333333,\"#9c179e\"],[0.4444444444444444,\"#bd3786\"],[0.5555555555555556,\"#d8576b\"],[0.6666666666666666,\"#ed7953\"],[0.7777777777777778,\"#fb9f3a\"],[0.8888888888888888,\"#fdca26\"],[1.0,\"#f0f921\"]],\"type\":\"contour\"}],\"contourcarpet\":[{\"colorbar\":{\"outlinewidth\":0,\"ticks\":\"\"},\"type\":\"contourcarpet\"}],\"heatmap\":[{\"colorbar\":{\"outlinewidth\":0,\"ticks\":\"\"},\"colorscale\":[[0.0,\"#0d0887\"],[0.1111111111111111,\"#46039f\"],[0.2222222222222222,\"#7201a8\"],[0.3333333333333333,\"#9c179e\"],[0.4444444444444444,\"#bd3786\"],[0.5555555555555556,\"#d8576b\"],[0.6666666666666666,\"#ed7953\"],[0.7777777777777778,\"#fb9f3a\"],[0.8888888888888888,\"#fdca26\"],[1.0,\"#f0f921\"]],\"type\":\"heatmap\"}],\"heatmapgl\":[{\"colorbar\":{\"outlinewidth\":0,\"ticks\":\"\"},\"colorscale\":[[0.0,\"#0d0887\"],[0.1111111111111111,\"#46039f\"],[0.2222222222222222,\"#7201a8\"],[0.3333333333333333,\"#9c179e\"],[0.4444444444444444,\"#bd3786\"],[0.5555555555555556,\"#d8576b\"],[0.6666666666666666,\"#ed7953\"],[0.7777777777777778,\"#fb9f3a\"],[0.8888888888888888,\"#fdca26\"],[1.0,\"#f0f921\"]],\"type\":\"heatmapgl\"}],\"histogram\":[{\"marker\":{\"pattern\":{\"fillmode\":\"overlay\",\"size\":10,\"solidity\":0.2}},\"type\":\"histogram\"}],\"histogram2d\":[{\"colorbar\":{\"outlinewidth\":0,\"ticks\":\"\"},\"colorscale\":[[0.0,\"#0d0887\"],[0.1111111111111111,\"#46039f\"],[0.2222222222222222,\"#7201a8\"],[0.3333333333333333,\"#9c179e\"],[0.4444444444444444,\"#bd3786\"],[0.5555555555555556,\"#d8576b\"],[0.6666666666666666,\"#ed7953\"],[0.7777777777777778,\"#fb9f3a\"],[0.8888888888888888,\"#fdca26\"],[1.0,\"#f0f921\"]],\"type\":\"histogram2d\"}],\"histogram2dcontour\":[{\"colorbar\":{\"outlinewidth\":0,\"ticks\":\"\"},\"colorscale\":[[0.0,\"#0d0887\"],[0.1111111111111111,\"#46039f\"],[0.2222222222222222,\"#7201a8\"],[0.3333333333333333,\"#9c179e\"],[0.4444444444444444,\"#bd3786\"],[0.5555555555555556,\"#d8576b\"],[0.6666666666666666,\"#ed7953\"],[0.7777777777777778,\"#fb9f3a\"],[0.8888888888888888,\"#fdca26\"],[1.0,\"#f0f921\"]],\"type\":\"histogram2dcontour\"}],\"mesh3d\":[{\"colorbar\":{\"outlinewidth\":0,\"ticks\":\"\"},\"type\":\"mesh3d\"}],\"parcoords\":[{\"line\":{\"colorbar\":{\"outlinewidth\":0,\"ticks\":\"\"}},\"type\":\"parcoords\"}],\"pie\":[{\"automargin\":true,\"type\":\"pie\"}],\"scatter\":[{\"marker\":{\"colorbar\":{\"outlinewidth\":0,\"ticks\":\"\"}},\"type\":\"scatter\"}],\"scatter3d\":[{\"line\":{\"colorbar\":{\"outlinewidth\":0,\"ticks\":\"\"}},\"marker\":{\"colorbar\":{\"outlinewidth\":0,\"ticks\":\"\"}},\"type\":\"scatter3d\"}],\"scattercarpet\":[{\"marker\":{\"colorbar\":{\"outlinewidth\":0,\"ticks\":\"\"}},\"type\":\"scattercarpet\"}],\"scattergeo\":[{\"marker\":{\"colorbar\":{\"outlinewidth\":0,\"ticks\":\"\"}},\"type\":\"scattergeo\"}],\"scattergl\":[{\"marker\":{\"colorbar\":{\"outlinewidth\":0,\"ticks\":\"\"}},\"type\":\"scattergl\"}],\"scattermapbox\":[{\"marker\":{\"colorbar\":{\"outlinewidth\":0,\"ticks\":\"\"}},\"type\":\"scattermapbox\"}],\"scatterpolar\":[{\"marker\":{\"colorbar\":{\"outlinewidth\":0,\"ticks\":\"\"}},\"type\":\"scatterpolar\"}],\"scatterpolargl\":[{\"marker\":{\"colorbar\":{\"outlinewidth\":0,\"ticks\":\"\"}},\"type\":\"scatterpolargl\"}],\"scatterternary\":[{\"marker\":{\"colorbar\":{\"outlinewidth\":0,\"ticks\":\"\"}},\"type\":\"scatterternary\"}],\"surface\":[{\"colorbar\":{\"outlinewidth\":0,\"ticks\":\"\"},\"colorscale\":[[0.0,\"#0d0887\"],[0.1111111111111111,\"#46039f\"],[0.2222222222222222,\"#7201a8\"],[0.3333333333333333,\"#9c179e\"],[0.4444444444444444,\"#bd3786\"],[0.5555555555555556,\"#d8576b\"],[0.6666666666666666,\"#ed7953\"],[0.7777777777777778,\"#fb9f3a\"],[0.8888888888888888,\"#fdca26\"],[1.0,\"#f0f921\"]],\"type\":\"surface\"}],\"table\":[{\"cells\":{\"fill\":{\"color\":\"#EBF0F8\"},\"line\":{\"color\":\"white\"}},\"header\":{\"fill\":{\"color\":\"#C8D4E3\"},\"line\":{\"color\":\"white\"}},\"type\":\"table\"}]},\"layout\":{\"annotationdefaults\":{\"arrowcolor\":\"#2a3f5f\",\"arrowhead\":0,\"arrowwidth\":1},\"autotypenumbers\":\"strict\",\"coloraxis\":{\"colorbar\":{\"outlinewidth\":0,\"ticks\":\"\"}},\"colorscale\":{\"diverging\":[[0,\"#8e0152\"],[0.1,\"#c51b7d\"],[0.2,\"#de77ae\"],[0.3,\"#f1b6da\"],[0.4,\"#fde0ef\"],[0.5,\"#f7f7f7\"],[0.6,\"#e6f5d0\"],[0.7,\"#b8e186\"],[0.8,\"#7fbc41\"],[0.9,\"#4d9221\"],[1,\"#276419\"]],\"sequential\":[[0.0,\"#0d0887\"],[0.1111111111111111,\"#46039f\"],[0.2222222222222222,\"#7201a8\"],[0.3333333333333333,\"#9c179e\"],[0.4444444444444444,\"#bd3786\"],[0.5555555555555556,\"#d8576b\"],[0.6666666666666666,\"#ed7953\"],[0.7777777777777778,\"#fb9f3a\"],[0.8888888888888888,\"#fdca26\"],[1.0,\"#f0f921\"]],\"sequentialminus\":[[0.0,\"#0d0887\"],[0.1111111111111111,\"#46039f\"],[0.2222222222222222,\"#7201a8\"],[0.3333333333333333,\"#9c179e\"],[0.4444444444444444,\"#bd3786\"],[0.5555555555555556,\"#d8576b\"],[0.6666666666666666,\"#ed7953\"],[0.7777777777777778,\"#fb9f3a\"],[0.8888888888888888,\"#fdca26\"],[1.0,\"#f0f921\"]]},\"colorway\":[\"#636efa\",\"#EF553B\",\"#00cc96\",\"#ab63fa\",\"#FFA15A\",\"#19d3f3\",\"#FF6692\",\"#B6E880\",\"#FF97FF\",\"#FECB52\"],\"font\":{\"color\":\"#2a3f5f\"},\"geo\":{\"bgcolor\":\"white\",\"lakecolor\":\"white\",\"landcolor\":\"#E5ECF6\",\"showlakes\":true,\"showland\":true,\"subunitcolor\":\"white\"},\"hoverlabel\":{\"align\":\"left\"},\"hovermode\":\"closest\",\"mapbox\":{\"style\":\"light\"},\"paper_bgcolor\":\"white\",\"plot_bgcolor\":\"#E5ECF6\",\"polar\":{\"angularaxis\":{\"gridcolor\":\"white\",\"linecolor\":\"white\",\"ticks\":\"\"},\"bgcolor\":\"#E5ECF6\",\"radialaxis\":{\"gridcolor\":\"white\",\"linecolor\":\"white\",\"ticks\":\"\"}},\"scene\":{\"xaxis\":{\"backgroundcolor\":\"#E5ECF6\",\"gridcolor\":\"white\",\"gridwidth\":2,\"linecolor\":\"white\",\"showbackground\":true,\"ticks\":\"\",\"zerolinecolor\":\"white\"},\"yaxis\":{\"backgroundcolor\":\"#E5ECF6\",\"gridcolor\":\"white\",\"gridwidth\":2,\"linecolor\":\"white\",\"showbackground\":true,\"ticks\":\"\",\"zerolinecolor\":\"white\"},\"zaxis\":{\"backgroundcolor\":\"#E5ECF6\",\"gridcolor\":\"white\",\"gridwidth\":2,\"linecolor\":\"white\",\"showbackground\":true,\"ticks\":\"\",\"zerolinecolor\":\"white\"}},\"shapedefaults\":{\"line\":{\"color\":\"#2a3f5f\"}},\"ternary\":{\"aaxis\":{\"gridcolor\":\"white\",\"linecolor\":\"white\",\"ticks\":\"\"},\"baxis\":{\"gridcolor\":\"white\",\"linecolor\":\"white\",\"ticks\":\"\"},\"bgcolor\":\"#E5ECF6\",\"caxis\":{\"gridcolor\":\"white\",\"linecolor\":\"white\",\"ticks\":\"\"}},\"title\":{\"x\":0.05},\"xaxis\":{\"automargin\":true,\"gridcolor\":\"white\",\"linecolor\":\"white\",\"ticks\":\"\",\"title\":{\"standoff\":15},\"zerolinecolor\":\"white\",\"zerolinewidth\":2},\"yaxis\":{\"automargin\":true,\"gridcolor\":\"white\",\"linecolor\":\"white\",\"ticks\":\"\",\"title\":{\"standoff\":15},\"zerolinecolor\":\"white\",\"zerolinewidth\":2}}},\"xaxis\":{\"anchor\":\"y\",\"domain\":[0.0,1.0],\"title\":{\"text\":\"Month\"}},\"yaxis\":{\"anchor\":\"x\",\"domain\":[0.0,1.0],\"title\":{\"text\":\"mean\"}},\"legend\":{\"title\":{\"text\":\"Country\"},\"tracegroupgap\":0},\"title\":{\"text\":\"Average and Standard Deviation of Temperature by Country\"}},                        {\"responsive\": true}                    ).then(function(){\n",
       "                            \n",
       "var gd = document.getElementById('82662a53-c06a-4e05-a6c0-7da2628ce827');\n",
       "var x = new MutationObserver(function (mutations, observer) {{\n",
       "        var display = window.getComputedStyle(gd).display;\n",
       "        if (!display || display === 'none') {{\n",
       "            console.log([gd, 'removed!']);\n",
       "            Plotly.purge(gd);\n",
       "            observer.disconnect();\n",
       "        }}\n",
       "}});\n",
       "\n",
       "// Listen for the removal of the full notebook cells\n",
       "var notebookContainer = gd.closest('#notebook-container');\n",
       "if (notebookContainer) {{\n",
       "    x.observe(notebookContainer, {childList: true});\n",
       "}}\n",
       "\n",
       "// Listen for the clearing of the current output cell\n",
       "var outputEl = gd.closest('.output');\n",
       "if (outputEl) {{\n",
       "    x.observe(outputEl, {childList: true});\n",
       "}}\n",
       "\n",
       "                        })                };                });            </script>        </div>"
      ]
     },
     "metadata": {},
     "output_type": "display_data"
    }
   ],
   "source": [
    "    country_month_data = data.groupby([\"Country\", \"Month\"]).agg([np.mean, np.std]).Temp.reset_index()\n",
    "    px.line(country_month_data, x='Month', y='mean', color='Country', error_y='std',\n",
    "            title=\"Average and Standard Deviation of Temperature by Country\",\n",
    "            labels={\"x\": \"111\", \"y\": \"111\"}).show()"
   ]
  },
  {
   "cell_type": "code",
   "execution_count": 38,
   "id": "4fbd49f2",
   "metadata": {},
   "outputs": [
    {
     "data": {
      "text/html": [
       "<div>\n",
       "<style scoped>\n",
       "    .dataframe tbody tr th:only-of-type {\n",
       "        vertical-align: middle;\n",
       "    }\n",
       "\n",
       "    .dataframe tbody tr th {\n",
       "        vertical-align: top;\n",
       "    }\n",
       "\n",
       "    .dataframe thead th {\n",
       "        text-align: right;\n",
       "    }\n",
       "</style>\n",
       "<table border=\"1\" class=\"dataframe\">\n",
       "  <thead>\n",
       "    <tr style=\"text-align: right;\">\n",
       "      <th></th>\n",
       "      <th>Country</th>\n",
       "      <th>City</th>\n",
       "      <th>Date</th>\n",
       "      <th>Year</th>\n",
       "      <th>Month</th>\n",
       "      <th>Day</th>\n",
       "      <th>Temp</th>\n",
       "    </tr>\n",
       "  </thead>\n",
       "  <tbody>\n",
       "    <tr>\n",
       "      <th>18532</th>\n",
       "      <td>Israel</td>\n",
       "      <td>Tel Aviv</td>\n",
       "      <td>1995-01-01</td>\n",
       "      <td>1995</td>\n",
       "      <td>1</td>\n",
       "      <td>1</td>\n",
       "      <td>14.055556</td>\n",
       "    </tr>\n",
       "    <tr>\n",
       "      <th>18533</th>\n",
       "      <td>Israel</td>\n",
       "      <td>Tel Aviv</td>\n",
       "      <td>1995-01-02</td>\n",
       "      <td>1995</td>\n",
       "      <td>1</td>\n",
       "      <td>2</td>\n",
       "      <td>13.388889</td>\n",
       "    </tr>\n",
       "    <tr>\n",
       "      <th>18534</th>\n",
       "      <td>Israel</td>\n",
       "      <td>Tel Aviv</td>\n",
       "      <td>1995-01-03</td>\n",
       "      <td>1995</td>\n",
       "      <td>1</td>\n",
       "      <td>3</td>\n",
       "      <td>13.277778</td>\n",
       "    </tr>\n",
       "    <tr>\n",
       "      <th>18535</th>\n",
       "      <td>Israel</td>\n",
       "      <td>Tel Aviv</td>\n",
       "      <td>1995-01-04</td>\n",
       "      <td>1995</td>\n",
       "      <td>1</td>\n",
       "      <td>4</td>\n",
       "      <td>13.833333</td>\n",
       "    </tr>\n",
       "    <tr>\n",
       "      <th>18536</th>\n",
       "      <td>Israel</td>\n",
       "      <td>Tel Aviv</td>\n",
       "      <td>1995-01-05</td>\n",
       "      <td>1995</td>\n",
       "      <td>1</td>\n",
       "      <td>5</td>\n",
       "      <td>13.666667</td>\n",
       "    </tr>\n",
       "    <tr>\n",
       "      <th>...</th>\n",
       "      <td>...</td>\n",
       "      <td>...</td>\n",
       "      <td>...</td>\n",
       "      <td>...</td>\n",
       "      <td>...</td>\n",
       "      <td>...</td>\n",
       "      <td>...</td>\n",
       "    </tr>\n",
       "    <tr>\n",
       "      <th>23168</th>\n",
       "      <td>Israel</td>\n",
       "      <td>Tel Aviv</td>\n",
       "      <td>2007-09-11</td>\n",
       "      <td>2007</td>\n",
       "      <td>9</td>\n",
       "      <td>11</td>\n",
       "      <td>26.388889</td>\n",
       "    </tr>\n",
       "    <tr>\n",
       "      <th>23169</th>\n",
       "      <td>Israel</td>\n",
       "      <td>Tel Aviv</td>\n",
       "      <td>2007-09-12</td>\n",
       "      <td>2007</td>\n",
       "      <td>9</td>\n",
       "      <td>12</td>\n",
       "      <td>26.500000</td>\n",
       "    </tr>\n",
       "    <tr>\n",
       "      <th>23170</th>\n",
       "      <td>Israel</td>\n",
       "      <td>Tel Aviv</td>\n",
       "      <td>2007-09-13</td>\n",
       "      <td>2007</td>\n",
       "      <td>9</td>\n",
       "      <td>13</td>\n",
       "      <td>26.500000</td>\n",
       "    </tr>\n",
       "    <tr>\n",
       "      <th>23171</th>\n",
       "      <td>Israel</td>\n",
       "      <td>Tel Aviv</td>\n",
       "      <td>2007-09-14</td>\n",
       "      <td>2007</td>\n",
       "      <td>9</td>\n",
       "      <td>14</td>\n",
       "      <td>26.444444</td>\n",
       "    </tr>\n",
       "    <tr>\n",
       "      <th>23172</th>\n",
       "      <td>Israel</td>\n",
       "      <td>Tel Aviv</td>\n",
       "      <td>2007-09-15</td>\n",
       "      <td>2007</td>\n",
       "      <td>9</td>\n",
       "      <td>15</td>\n",
       "      <td>26.666667</td>\n",
       "    </tr>\n",
       "  </tbody>\n",
       "</table>\n",
       "<p>4641 rows × 7 columns</p>\n",
       "</div>"
      ],
      "text/plain": [
       "      Country      City       Date  Year  Month  Day       Temp\n",
       "18532  Israel  Tel Aviv 1995-01-01  1995      1    1  14.055556\n",
       "18533  Israel  Tel Aviv 1995-01-02  1995      1    2  13.388889\n",
       "18534  Israel  Tel Aviv 1995-01-03  1995      1    3  13.277778\n",
       "18535  Israel  Tel Aviv 1995-01-04  1995      1    4  13.833333\n",
       "18536  Israel  Tel Aviv 1995-01-05  1995      1    5  13.666667\n",
       "...       ...       ...        ...   ...    ...  ...        ...\n",
       "23168  Israel  Tel Aviv 2007-09-11  2007      9   11  26.388889\n",
       "23169  Israel  Tel Aviv 2007-09-12  2007      9   12  26.500000\n",
       "23170  Israel  Tel Aviv 2007-09-13  2007      9   13  26.500000\n",
       "23171  Israel  Tel Aviv 2007-09-14  2007      9   14  26.444444\n",
       "23172  Israel  Tel Aviv 2007-09-15  2007      9   15  26.666667\n",
       "\n",
       "[4641 rows x 7 columns]"
      ]
     },
     "execution_count": 38,
     "metadata": {},
     "output_type": "execute_result"
    }
   ],
   "source": [
    "israel_data = data[data.Country == \"Israel\"]\n",
    "israel_data"
   ]
  },
  {
   "cell_type": "code",
   "execution_count": 32,
   "id": "044852f6",
   "metadata": {},
   "outputs": [],
   "source": [
    "def split_train_test(X: pd.DataFrame, y: pd.Series, train_proportion: float = .75):\n",
    "    shuffle_x = X.sample(frac=1)\n",
    "    shuffle_y = y.reindex_like(shuffle_x)\n",
    "    train_size = int(len(y) * train_proportion)\n",
    "\n",
    "    train_X = shuffle_x[:train_size]\n",
    "    train_y = shuffle_y[:train_size]\n",
    "    test_X = shuffle_x[train_size:]\n",
    "    test_y = shuffle_y[train_size:]\n",
    "\n",
    "    return train_X, train_y, test_X, test_y"
   ]
  },
  {
   "cell_type": "code",
   "execution_count": 40,
   "id": "78513f78",
   "metadata": {},
   "outputs": [],
   "source": [
    "train_X, train_y, test_X, test_y = split_train_test(israel_data.drop('Temp', axis=1), israel_data.Temp)  # default is 75% train, 25% test"
   ]
  }
 ],
 "metadata": {
  "kernelspec": {
   "display_name": "Python [conda env:iml.env] *",
   "language": "python",
   "name": "conda-env-iml.env-py"
  },
  "language_info": {
   "codemirror_mode": {
    "name": "ipython",
    "version": 3
   },
   "file_extension": ".py",
   "mimetype": "text/x-python",
   "name": "python",
   "nbconvert_exporter": "python",
   "pygments_lexer": "ipython3",
   "version": "3.7.11"
  }
 },
 "nbformat": 4,
 "nbformat_minor": 5
}
